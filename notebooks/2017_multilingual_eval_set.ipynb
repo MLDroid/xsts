{
 "cells": [
  {
   "cell_type": "code",
   "execution_count": 3,
   "metadata": {},
   "outputs": [],
   "source": [
    "import os\n",
    "import pandas as pd\n",
    "import glob"
   ]
  },
  {
   "cell_type": "code",
   "execution_count": 4,
   "metadata": {},
   "outputs": [],
   "source": [
    "ip_files = glob.glob('STS2017.eval.v1.1/*')"
   ]
  },
  {
   "cell_type": "code",
   "execution_count": 5,
   "metadata": {},
   "outputs": [
    {
     "data": {
      "text/plain": [
       "['STS2017.eval.v1.1/STS.input.track2.ar-en.txt',\n",
       " 'STS2017.eval.v1.1/STS.input.track4a.es-en.txt',\n",
       " 'STS2017.eval.v1.1/STS.input.track4b.es-en.txt',\n",
       " 'STS2017.eval.v1.1/STS.input.track1.ar-ar.txt',\n",
       " 'STS2017.eval.v1.1/STS.input.track6.tr-en.txt',\n",
       " 'STS2017.eval.v1.1/README.txt',\n",
       " 'STS2017.eval.v1.1/STS.input.track3.es-es.txt',\n",
       " 'STS2017.eval.v1.1/STS.input.track5.en-en.txt',\n",
       " 'STS2017.eval.v1.1/LICENSE.txt']"
      ]
     },
     "execution_count": 5,
     "metadata": {},
     "output_type": "execute_result"
    }
   ],
   "source": [
    "ip_files"
   ]
  },
  {
   "cell_type": "code",
   "execution_count": 9,
   "metadata": {},
   "outputs": [
    {
     "data": {
      "text/plain": [
       "['STS2017.eval.v1.1/STS.input.track1.ar-ar.txt',\n",
       " 'STS2017.eval.v1.1/STS.input.track2.ar-en.txt',\n",
       " 'STS2017.eval.v1.1/STS.input.track3.es-es.txt',\n",
       " 'STS2017.eval.v1.1/STS.input.track4a.es-en.txt',\n",
       " 'STS2017.eval.v1.1/STS.input.track4b.es-en.txt',\n",
       " 'STS2017.eval.v1.1/STS.input.track5.en-en.txt',\n",
       " 'STS2017.eval.v1.1/STS.input.track6.tr-en.txt']"
      ]
     },
     "execution_count": 9,
     "metadata": {},
     "output_type": "execute_result"
    }
   ],
   "source": [
    "ip_files = sorted([i for i in ip_files if 'input' in i])\n",
    "ip_files"
   ]
  },
  {
   "cell_type": "code",
   "execution_count": 14,
   "metadata": {},
   "outputs": [
    {
     "data": {
      "text/plain": [
       "['STS2017.gs/STS.gs.track1.ar-ar.txt',\n",
       " 'STS2017.gs/STS.gs.track2.ar-en.txt',\n",
       " 'STS2017.gs/STS.gs.track3.es-es.txt',\n",
       " 'STS2017.gs/STS.gs.track4a.es-en.txt',\n",
       " 'STS2017.gs/STS.gs.track4b.es-en.txt',\n",
       " 'STS2017.gs/STS.gs.track5.en-en.txt',\n",
       " 'STS2017.gs/STS.gs.track6.tr-en.txt']"
      ]
     },
     "execution_count": 14,
     "metadata": {},
     "output_type": "execute_result"
    }
   ],
   "source": [
    "score_files = [f.replace('STS2017.eval.v1.1','STS2017.gs').replace('input','gs') for f in ip_files]\n",
    "score_files"
   ]
  },
  {
   "cell_type": "code",
   "execution_count": 15,
   "metadata": {},
   "outputs": [],
   "source": [
    "df = pd.DataFrame(columns=['s1', 's2', 'l1', 'l2','score'])"
   ]
  },
  {
   "cell_type": "code",
   "execution_count": 16,
   "metadata": {},
   "outputs": [
    {
     "data": {
      "text/html": [
       "<div>\n",
       "<style scoped>\n",
       "    .dataframe tbody tr th:only-of-type {\n",
       "        vertical-align: middle;\n",
       "    }\n",
       "\n",
       "    .dataframe tbody tr th {\n",
       "        vertical-align: top;\n",
       "    }\n",
       "\n",
       "    .dataframe thead th {\n",
       "        text-align: right;\n",
       "    }\n",
       "</style>\n",
       "<table border=\"1\" class=\"dataframe\">\n",
       "  <thead>\n",
       "    <tr style=\"text-align: right;\">\n",
       "      <th></th>\n",
       "      <th>s1</th>\n",
       "      <th>s2</th>\n",
       "      <th>l1</th>\n",
       "      <th>l2</th>\n",
       "      <th>score</th>\n",
       "    </tr>\n",
       "  </thead>\n",
       "  <tbody>\n",
       "  </tbody>\n",
       "</table>\n",
       "</div>"
      ],
      "text/plain": [
       "Empty DataFrame\n",
       "Columns: [s1, s2, l1, l2, score]\n",
       "Index: []"
      ]
     },
     "execution_count": 16,
     "metadata": {},
     "output_type": "execute_result"
    }
   ],
   "source": [
    "df"
   ]
  },
  {
   "cell_type": "code",
   "execution_count": 19,
   "metadata": {},
   "outputs": [],
   "source": [
    "s1 = []\n",
    "s2 = []\n",
    "l1 = []\n",
    "l2 = []\n",
    "score = []\n",
    "for i_file, s_file in zip(ip_files, score_files):\n",
    "    lang_1, lang_2 = i_file.split('.')[-2].split('-')\n",
    "    i_lines = [l.strip() for l in open(i_file).readlines()]\n",
    "    s_lines = [float(l.strip()) for l in open(s_file).readlines()]\n",
    "    for i,s in zip(i_lines, s_lines):\n",
    "        sent_1, sent_2 = i.split('\\t')\n",
    "        s1.append(sent_1)\n",
    "        s2.append(sent_2)\n",
    "        l1.append(lang_1)\n",
    "        l2.append(lang_2)\n",
    "        score.append(s)\n",
    "#         print(sent_1)\n",
    "#         print(sent_2)\n",
    "#         print(lang_1)\n",
    "#         print(lang_2)\n",
    "#         print(s)\n",
    "#         input()\n",
    "        "
   ]
  },
  {
   "cell_type": "code",
   "execution_count": 20,
   "metadata": {},
   "outputs": [],
   "source": [
    "df['s1'] = s1\n",
    "df['s2'] = s2\n",
    "df['l1'] = l1\n",
    "df['l2'] = l2\n",
    "df['score'] = score"
   ]
  },
  {
   "cell_type": "code",
   "execution_count": 21,
   "metadata": {},
   "outputs": [
    {
     "data": {
      "text/html": [
       "<div>\n",
       "<style scoped>\n",
       "    .dataframe tbody tr th:only-of-type {\n",
       "        vertical-align: middle;\n",
       "    }\n",
       "\n",
       "    .dataframe tbody tr th {\n",
       "        vertical-align: top;\n",
       "    }\n",
       "\n",
       "    .dataframe thead th {\n",
       "        text-align: right;\n",
       "    }\n",
       "</style>\n",
       "<table border=\"1\" class=\"dataframe\">\n",
       "  <thead>\n",
       "    <tr style=\"text-align: right;\">\n",
       "      <th></th>\n",
       "      <th>s1</th>\n",
       "      <th>s2</th>\n",
       "      <th>l1</th>\n",
       "      <th>l2</th>\n",
       "      <th>score</th>\n",
       "    </tr>\n",
       "  </thead>\n",
       "  <tbody>\n",
       "    <tr>\n",
       "      <th>0</th>\n",
       "      <td>شخص ما يحمل لوح التزلج ليلا على الرصيف.</td>\n",
       "      <td>رجل جالس بمفرده يقرأ على طاولة مستديرة ، خارج ...</td>\n",
       "      <td>ar</td>\n",
       "      <td>ar</td>\n",
       "      <td>0.8</td>\n",
       "    </tr>\n",
       "    <tr>\n",
       "      <th>1</th>\n",
       "      <td>تتسابق النساء في سباق الدايتونا 500.</td>\n",
       "      <td>يتسابق بعض الرجال ضمن مسابقة التزلج.</td>\n",
       "      <td>ar</td>\n",
       "      <td>ar</td>\n",
       "      <td>1.0</td>\n",
       "    </tr>\n",
       "    <tr>\n",
       "      <th>2</th>\n",
       "      <td>تمشي النساء جنبا إلى جنب.</td>\n",
       "      <td>هناك فتيات يمشين متجاورات</td>\n",
       "      <td>ar</td>\n",
       "      <td>ar</td>\n",
       "      <td>2.6</td>\n",
       "    </tr>\n",
       "    <tr>\n",
       "      <th>3</th>\n",
       "      <td>يقفز الرجل ذو القميص الأخضر عاليا على العشب.</td>\n",
       "      <td>يمشي الرجل ذو القميص الأبيض على العشب الطويل م...</td>\n",
       "      <td>ar</td>\n",
       "      <td>ar</td>\n",
       "      <td>2.2</td>\n",
       "    </tr>\n",
       "    <tr>\n",
       "      <th>4</th>\n",
       "      <td>رجلان يجلسان على العشب ومعهما موز.</td>\n",
       "      <td>ثلاثة رجال يتسكعون عند فرشة بيع الفاكهة.</td>\n",
       "      <td>ar</td>\n",
       "      <td>ar</td>\n",
       "      <td>1.4</td>\n",
       "    </tr>\n",
       "    <tr>\n",
       "      <th>5</th>\n",
       "      <td>كومة من الصخور تحمل علامات غريبة ، تسببت في تج...</td>\n",
       "      <td>يسير بعض الأشخاص على بعض الصخور الموجودة في ال...</td>\n",
       "      <td>ar</td>\n",
       "      <td>ar</td>\n",
       "      <td>1.8</td>\n",
       "    </tr>\n",
       "    <tr>\n",
       "      <th>6</th>\n",
       "      <td>ساعدت النساء أحد العدائين الذي كان قد سقط ، لل...</td>\n",
       "      <td>كانت المرأة تضع المكياج.</td>\n",
       "      <td>ar</td>\n",
       "      <td>ar</td>\n",
       "      <td>0.4</td>\n",
       "    </tr>\n",
       "    <tr>\n",
       "      <th>7</th>\n",
       "      <td>تشتري المرأة الغَزْل.</td>\n",
       "      <td>تبيع إحدى النساء المحصول.</td>\n",
       "      <td>ar</td>\n",
       "      <td>ar</td>\n",
       "      <td>1.4</td>\n",
       "    </tr>\n",
       "    <tr>\n",
       "      <th>8</th>\n",
       "      <td>تهرول امرأة في أحد الأزقة ، مرتدية ملابس سوداء .</td>\n",
       "      <td>يسير شاب ذو سترة سوداء على الرصيف.</td>\n",
       "      <td>ar</td>\n",
       "      <td>ar</td>\n",
       "      <td>1.0</td>\n",
       "    </tr>\n",
       "    <tr>\n",
       "      <th>9</th>\n",
       "      <td>إنه حفل موسيقي.</td>\n",
       "      <td>يقدم شخصٌ حفلا موسيقيا.</td>\n",
       "      <td>ar</td>\n",
       "      <td>ar</td>\n",
       "      <td>2.8</td>\n",
       "    </tr>\n",
       "  </tbody>\n",
       "</table>\n",
       "</div>"
      ],
      "text/plain": [
       "                                                  s1  \\\n",
       "0            شخص ما يحمل لوح التزلج ليلا على الرصيف.   \n",
       "1               تتسابق النساء في سباق الدايتونا 500.   \n",
       "2                          تمشي النساء جنبا إلى جنب.   \n",
       "3       يقفز الرجل ذو القميص الأخضر عاليا على العشب.   \n",
       "4                 رجلان يجلسان على العشب ومعهما موز.   \n",
       "5  كومة من الصخور تحمل علامات غريبة ، تسببت في تج...   \n",
       "6  ساعدت النساء أحد العدائين الذي كان قد سقط ، لل...   \n",
       "7                              تشتري المرأة الغَزْل.   \n",
       "8   تهرول امرأة في أحد الأزقة ، مرتدية ملابس سوداء .   \n",
       "9                                    إنه حفل موسيقي.   \n",
       "\n",
       "                                                  s2  l1  l2  score  \n",
       "0  رجل جالس بمفرده يقرأ على طاولة مستديرة ، خارج ...  ar  ar    0.8  \n",
       "1               يتسابق بعض الرجال ضمن مسابقة التزلج.  ar  ar    1.0  \n",
       "2                          هناك فتيات يمشين متجاورات  ar  ar    2.6  \n",
       "3  يمشي الرجل ذو القميص الأبيض على العشب الطويل م...  ar  ar    2.2  \n",
       "4           ثلاثة رجال يتسكعون عند فرشة بيع الفاكهة.  ar  ar    1.4  \n",
       "5  يسير بعض الأشخاص على بعض الصخور الموجودة في ال...  ar  ar    1.8  \n",
       "6                           كانت المرأة تضع المكياج.  ar  ar    0.4  \n",
       "7                          تبيع إحدى النساء المحصول.  ar  ar    1.4  \n",
       "8                 يسير شاب ذو سترة سوداء على الرصيف.  ar  ar    1.0  \n",
       "9                            يقدم شخصٌ حفلا موسيقيا.  ar  ar    2.8  "
      ]
     },
     "execution_count": 21,
     "metadata": {},
     "output_type": "execute_result"
    }
   ],
   "source": [
    "df.head(10)"
   ]
  },
  {
   "cell_type": "code",
   "execution_count": 22,
   "metadata": {},
   "outputs": [
    {
     "data": {
      "text/html": [
       "<div>\n",
       "<style scoped>\n",
       "    .dataframe tbody tr th:only-of-type {\n",
       "        vertical-align: middle;\n",
       "    }\n",
       "\n",
       "    .dataframe tbody tr th {\n",
       "        vertical-align: top;\n",
       "    }\n",
       "\n",
       "    .dataframe thead th {\n",
       "        text-align: right;\n",
       "    }\n",
       "</style>\n",
       "<table border=\"1\" class=\"dataframe\">\n",
       "  <thead>\n",
       "    <tr style=\"text-align: right;\">\n",
       "      <th></th>\n",
       "      <th>s1</th>\n",
       "      <th>s2</th>\n",
       "      <th>l1</th>\n",
       "      <th>l2</th>\n",
       "      <th>score</th>\n",
       "    </tr>\n",
       "  </thead>\n",
       "  <tbody>\n",
       "    <tr>\n",
       "      <th>1740</th>\n",
       "      <td>The construction workers appear through a wood...</td>\n",
       "      <td>sokak tabelasının arkasındaki kısmen inşa edil...</td>\n",
       "      <td>tr</td>\n",
       "      <td>en</td>\n",
       "      <td>2.2</td>\n",
       "    </tr>\n",
       "    <tr>\n",
       "      <th>1741</th>\n",
       "      <td>lady and man sitting on couch reading in sweats</td>\n",
       "      <td>Kanepede uyuyan pijamalı genç bir oğlan.</td>\n",
       "      <td>tr</td>\n",
       "      <td>en</td>\n",
       "      <td>0.8</td>\n",
       "    </tr>\n",
       "    <tr>\n",
       "      <th>1742</th>\n",
       "      <td>A rock climber with a white helmet is repelling.</td>\n",
       "      <td>Beyaz kasklı bir kişi kayalara tırmanıyor.</td>\n",
       "      <td>tr</td>\n",
       "      <td>en</td>\n",
       "      <td>3.8</td>\n",
       "    </tr>\n",
       "    <tr>\n",
       "      <th>1743</th>\n",
       "      <td>People strolling casually across a bridge.</td>\n",
       "      <td>İki kişi terk edilen sokakta gelişigüzel yürür.</td>\n",
       "      <td>tr</td>\n",
       "      <td>en</td>\n",
       "      <td>2.6</td>\n",
       "    </tr>\n",
       "    <tr>\n",
       "      <th>1744</th>\n",
       "      <td>A man in a khaki colored uniform carries a bru...</td>\n",
       "      <td>Kırmızı gömlekli bir kadın, kendisinden daha g...</td>\n",
       "      <td>tr</td>\n",
       "      <td>en</td>\n",
       "      <td>0.4</td>\n",
       "    </tr>\n",
       "    <tr>\n",
       "      <th>1745</th>\n",
       "      <td>A coach smiles at a player.</td>\n",
       "      <td>Bir koç, oyuncularıyla birlikte kenarda durur.</td>\n",
       "      <td>tr</td>\n",
       "      <td>en</td>\n",
       "      <td>2.4</td>\n",
       "    </tr>\n",
       "    <tr>\n",
       "      <th>1746</th>\n",
       "      <td>Six women wearing black jackets and bright red...</td>\n",
       "      <td>Sarı gömlekli üç kadın kameraya gülümsüyor.</td>\n",
       "      <td>tr</td>\n",
       "      <td>en</td>\n",
       "      <td>1.6</td>\n",
       "    </tr>\n",
       "    <tr>\n",
       "      <th>1747</th>\n",
       "      <td>There are 70 participants on each team on the ...</td>\n",
       "      <td>Sahada iki takım var.</td>\n",
       "      <td>tr</td>\n",
       "      <td>en</td>\n",
       "      <td>2.8</td>\n",
       "    </tr>\n",
       "    <tr>\n",
       "      <th>1748</th>\n",
       "      <td>A large family poses for a photo.</td>\n",
       "      <td>Fotoğraf çeken bir aile var</td>\n",
       "      <td>tr</td>\n",
       "      <td>en</td>\n",
       "      <td>4.0</td>\n",
       "    </tr>\n",
       "    <tr>\n",
       "      <th>1749</th>\n",
       "      <td>A girl is inspecting a machine.</td>\n",
       "      <td>Bir kadın bir makineyle çalışıyor.</td>\n",
       "      <td>tr</td>\n",
       "      <td>en</td>\n",
       "      <td>3.4</td>\n",
       "    </tr>\n",
       "  </tbody>\n",
       "</table>\n",
       "</div>"
      ],
      "text/plain": [
       "                                                     s1  \\\n",
       "1740  The construction workers appear through a wood...   \n",
       "1741    lady and man sitting on couch reading in sweats   \n",
       "1742   A rock climber with a white helmet is repelling.   \n",
       "1743         People strolling casually across a bridge.   \n",
       "1744  A man in a khaki colored uniform carries a bru...   \n",
       "1745                        A coach smiles at a player.   \n",
       "1746  Six women wearing black jackets and bright red...   \n",
       "1747  There are 70 participants on each team on the ...   \n",
       "1748                  A large family poses for a photo.   \n",
       "1749                    A girl is inspecting a machine.   \n",
       "\n",
       "                                                     s2  l1  l2  score  \n",
       "1740  sokak tabelasının arkasındaki kısmen inşa edil...  tr  en    2.2  \n",
       "1741           Kanepede uyuyan pijamalı genç bir oğlan.  tr  en    0.8  \n",
       "1742         Beyaz kasklı bir kişi kayalara tırmanıyor.  tr  en    3.8  \n",
       "1743    İki kişi terk edilen sokakta gelişigüzel yürür.  tr  en    2.6  \n",
       "1744  Kırmızı gömlekli bir kadın, kendisinden daha g...  tr  en    0.4  \n",
       "1745     Bir koç, oyuncularıyla birlikte kenarda durur.  tr  en    2.4  \n",
       "1746        Sarı gömlekli üç kadın kameraya gülümsüyor.  tr  en    1.6  \n",
       "1747                              Sahada iki takım var.  tr  en    2.8  \n",
       "1748                        Fotoğraf çeken bir aile var  tr  en    4.0  \n",
       "1749                 Bir kadın bir makineyle çalışıyor.  tr  en    3.4  "
      ]
     },
     "execution_count": 22,
     "metadata": {},
     "output_type": "execute_result"
    }
   ],
   "source": [
    "df.tail(10)"
   ]
  },
  {
   "cell_type": "code",
   "execution_count": 23,
   "metadata": {},
   "outputs": [
    {
     "data": {
      "text/plain": [
       "es    750\n",
       "ar    500\n",
       "en    250\n",
       "tr    250\n",
       "Name: l1, dtype: int64"
      ]
     },
     "execution_count": 23,
     "metadata": {},
     "output_type": "execute_result"
    }
   ],
   "source": [
    "df.l1.value_counts()"
   ]
  },
  {
   "cell_type": "code",
   "execution_count": 24,
   "metadata": {},
   "outputs": [
    {
     "data": {
      "text/plain": [
       "en    1250\n",
       "es     250\n",
       "ar     250\n",
       "Name: l2, dtype: int64"
      ]
     },
     "execution_count": 24,
     "metadata": {},
     "output_type": "execute_result"
    }
   ],
   "source": [
    "df.l2.value_counts()"
   ]
  },
  {
   "cell_type": "code",
   "execution_count": 25,
   "metadata": {},
   "outputs": [
    {
     "data": {
      "text/plain": [
       "(1750, 5)"
      ]
     },
     "execution_count": 25,
     "metadata": {},
     "output_type": "execute_result"
    }
   ],
   "source": [
    "df.shape"
   ]
  },
  {
   "cell_type": "code",
   "execution_count": 27,
   "metadata": {},
   "outputs": [],
   "source": [
    "df.to_csv('2017_multilingual_eval_set.csv',index=False)"
   ]
  },
  {
   "cell_type": "code",
   "execution_count": null,
   "metadata": {},
   "outputs": [],
   "source": []
  }
 ],
 "metadata": {
  "kernelspec": {
   "display_name": "Python 3",
   "language": "python",
   "name": "python3"
  },
  "language_info": {
   "codemirror_mode": {
    "name": "ipython",
    "version": 3
   },
   "file_extension": ".py",
   "mimetype": "text/x-python",
   "name": "python",
   "nbconvert_exporter": "python",
   "pygments_lexer": "ipython3",
   "version": "3.6.5"
  }
 },
 "nbformat": 4,
 "nbformat_minor": 2
}
