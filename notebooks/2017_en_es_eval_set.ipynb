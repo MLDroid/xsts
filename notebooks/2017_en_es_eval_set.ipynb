{
 "cells": [
  {
   "cell_type": "code",
   "execution_count": 1,
   "metadata": {},
   "outputs": [],
   "source": [
    "import os\n",
    "import pandas as pd\n",
    "import glob"
   ]
  },
  {
   "cell_type": "code",
   "execution_count": 2,
   "metadata": {},
   "outputs": [
    {
     "data": {
      "text/plain": [
       "'/Users/annamalai/Downloads/2017'"
      ]
     },
     "execution_count": 2,
     "metadata": {},
     "output_type": "execute_result"
    }
   ],
   "source": [
    "os.getcwd()"
   ]
  },
  {
   "cell_type": "code",
   "execution_count": 6,
   "metadata": {},
   "outputs": [],
   "source": [
    "files = glob.glob('En_Es_STS/*')"
   ]
  },
  {
   "cell_type": "code",
   "execution_count": 7,
   "metadata": {},
   "outputs": [
    {
     "data": {
      "text/plain": [
       "['En_Es_STS/STS.input.en-es.train.txt',\n",
       " 'En_Es_STS/readme',\n",
       " 'En_Es_STS/STS.input.en-es.train_scores.txt']"
      ]
     },
     "execution_count": 7,
     "metadata": {},
     "output_type": "execute_result"
    }
   ],
   "source": [
    "files"
   ]
  },
  {
   "cell_type": "code",
   "execution_count": 8,
   "metadata": {},
   "outputs": [],
   "source": [
    "ip_file = files[0]\n",
    "score_file = files[2]"
   ]
  },
  {
   "cell_type": "code",
   "execution_count": 9,
   "metadata": {},
   "outputs": [],
   "source": [
    "df = pd.DataFrame(columns=['s1', 's2', 'l1', 'l2','score'])"
   ]
  },
  {
   "cell_type": "code",
   "execution_count": 10,
   "metadata": {},
   "outputs": [
    {
     "data": {
      "text/html": [
       "<div>\n",
       "<style scoped>\n",
       "    .dataframe tbody tr th:only-of-type {\n",
       "        vertical-align: middle;\n",
       "    }\n",
       "\n",
       "    .dataframe tbody tr th {\n",
       "        vertical-align: top;\n",
       "    }\n",
       "\n",
       "    .dataframe thead th {\n",
       "        text-align: right;\n",
       "    }\n",
       "</style>\n",
       "<table border=\"1\" class=\"dataframe\">\n",
       "  <thead>\n",
       "    <tr style=\"text-align: right;\">\n",
       "      <th></th>\n",
       "      <th>s1</th>\n",
       "      <th>s2</th>\n",
       "      <th>l1</th>\n",
       "      <th>l2</th>\n",
       "      <th>score</th>\n",
       "    </tr>\n",
       "  </thead>\n",
       "  <tbody>\n",
       "  </tbody>\n",
       "</table>\n",
       "</div>"
      ],
      "text/plain": [
       "Empty DataFrame\n",
       "Columns: [s1, s2, l1, l2, score]\n",
       "Index: []"
      ]
     },
     "execution_count": 10,
     "metadata": {},
     "output_type": "execute_result"
    }
   ],
   "source": [
    "df"
   ]
  },
  {
   "cell_type": "code",
   "execution_count": 14,
   "metadata": {},
   "outputs": [],
   "source": [
    "s1 = []\n",
    "s2 = []\n",
    "l1 = []\n",
    "l2 = []\n",
    "score = []\n",
    "i_lines = [l.strip() for l in open(ip_file).readlines()]\n",
    "s_lines = [float(l.strip()) for l in open(score_file).readlines()]\n",
    "for i,s in zip(i_lines, s_lines):\n",
    "    parts = i.split('\\t')\n",
    "    sent_1 = parts[0]\n",
    "    sent_2 = parts[1]\n",
    "    s1.append(sent_1)\n",
    "    s2.append(sent_2)\n",
    "    l1.append('en')\n",
    "    l2.append('es')\n",
    "    score.append(s)\n",
    "#     print(sent_1)\n",
    "#     print(sent_2)\n",
    "#     print(s)\n",
    "#     input()\n",
    "        "
   ]
  },
  {
   "cell_type": "code",
   "execution_count": 15,
   "metadata": {},
   "outputs": [],
   "source": [
    "df['s1'] = s1\n",
    "df['s2'] = s2\n",
    "df['l1'] = l1\n",
    "df['l2'] = l2\n",
    "df['score'] = score"
   ]
  },
  {
   "cell_type": "code",
   "execution_count": 16,
   "metadata": {},
   "outputs": [
    {
     "data": {
      "text/html": [
       "<div>\n",
       "<style scoped>\n",
       "    .dataframe tbody tr th:only-of-type {\n",
       "        vertical-align: middle;\n",
       "    }\n",
       "\n",
       "    .dataframe tbody tr th {\n",
       "        vertical-align: top;\n",
       "    }\n",
       "\n",
       "    .dataframe thead th {\n",
       "        text-align: right;\n",
       "    }\n",
       "</style>\n",
       "<table border=\"1\" class=\"dataframe\">\n",
       "  <thead>\n",
       "    <tr style=\"text-align: right;\">\n",
       "      <th></th>\n",
       "      <th>s1</th>\n",
       "      <th>s2</th>\n",
       "      <th>l1</th>\n",
       "      <th>l2</th>\n",
       "      <th>score</th>\n",
       "    </tr>\n",
       "  </thead>\n",
       "  <tbody>\n",
       "    <tr>\n",
       "      <th>0</th>\n",
       "      <td>His rheumy eyes began to cloud.</td>\n",
       "      <td>A sus ojos rheumy comenzó a nube.</td>\n",
       "      <td>en</td>\n",
       "      <td>es</td>\n",
       "      <td>1.0</td>\n",
       "    </tr>\n",
       "    <tr>\n",
       "      <th>1</th>\n",
       "      <td>A recent study by Dr. Megan Moreno of the Univ...</td>\n",
       "      <td>Un reciente estudio realizado por la doctora M...</td>\n",
       "      <td>en</td>\n",
       "      <td>es</td>\n",
       "      <td>5.0</td>\n",
       "    </tr>\n",
       "    <tr>\n",
       "      <th>2</th>\n",
       "      <td>Within minutes of entering Lyman's room, the m...</td>\n",
       "      <td>Pocos minutos después de entrar en la sala Lym...</td>\n",
       "      <td>en</td>\n",
       "      <td>es</td>\n",
       "      <td>3.0</td>\n",
       "    </tr>\n",
       "    <tr>\n",
       "      <th>3</th>\n",
       "      <td>So the minute that a U.S. official says anythi...</td>\n",
       "      <td>Hasta el minuto de que un funcionario estadoun...</td>\n",
       "      <td>en</td>\n",
       "      <td>es</td>\n",
       "      <td>4.0</td>\n",
       "    </tr>\n",
       "    <tr>\n",
       "      <th>4</th>\n",
       "      <td>When they left, I packed a suitcase and caught...</td>\n",
       "      <td>Cuando salían, me llena de una maleta y captur...</td>\n",
       "      <td>en</td>\n",
       "      <td>es</td>\n",
       "      <td>2.0</td>\n",
       "    </tr>\n",
       "    <tr>\n",
       "      <th>5</th>\n",
       "      <td>\"The military is a top-down structure,\" she says.</td>\n",
       "      <td>\"El ejército es una estructura jerárquica\", dice.</td>\n",
       "      <td>en</td>\n",
       "      <td>es</td>\n",
       "      <td>5.0</td>\n",
       "    </tr>\n",
       "    <tr>\n",
       "      <th>6</th>\n",
       "      <td>Sixty-six parent coordinators were laid off,\" ...</td>\n",
       "      <td>Sesenta y seis padres coordinadores fueron des...</td>\n",
       "      <td>en</td>\n",
       "      <td>es</td>\n",
       "      <td>3.0</td>\n",
       "    </tr>\n",
       "    <tr>\n",
       "      <th>7</th>\n",
       "      <td>Their lives flicker here like votive candles l...</td>\n",
       "      <td>Sus vidas rayo aquí como votive iluminada con ...</td>\n",
       "      <td>en</td>\n",
       "      <td>es</td>\n",
       "      <td>1.0</td>\n",
       "    </tr>\n",
       "    <tr>\n",
       "      <th>8</th>\n",
       "      <td>\"I remember the day when the verdict was read,...</td>\n",
       "      <td>\"Recuerdo el día cuando el veredicto fue leído...</td>\n",
       "      <td>en</td>\n",
       "      <td>es</td>\n",
       "      <td>5.0</td>\n",
       "    </tr>\n",
       "    <tr>\n",
       "      <th>9</th>\n",
       "      <td>Mexico's Enrique Pena Nieto faces tough start</td>\n",
       "      <td>México Enrique Peña Nieto enfrenta duras comienzo</td>\n",
       "      <td>en</td>\n",
       "      <td>es</td>\n",
       "      <td>4.0</td>\n",
       "    </tr>\n",
       "  </tbody>\n",
       "</table>\n",
       "</div>"
      ],
      "text/plain": [
       "                                                  s1  \\\n",
       "0                    His rheumy eyes began to cloud.   \n",
       "1  A recent study by Dr. Megan Moreno of the Univ...   \n",
       "2  Within minutes of entering Lyman's room, the m...   \n",
       "3  So the minute that a U.S. official says anythi...   \n",
       "4  When they left, I packed a suitcase and caught...   \n",
       "5  \"The military is a top-down structure,\" she says.   \n",
       "6  Sixty-six parent coordinators were laid off,\" ...   \n",
       "7  Their lives flicker here like votive candles l...   \n",
       "8  \"I remember the day when the verdict was read,...   \n",
       "9      Mexico's Enrique Pena Nieto faces tough start   \n",
       "\n",
       "                                                  s2  l1  l2  score  \n",
       "0                  A sus ojos rheumy comenzó a nube.  en  es    1.0  \n",
       "1  Un reciente estudio realizado por la doctora M...  en  es    5.0  \n",
       "2  Pocos minutos después de entrar en la sala Lym...  en  es    3.0  \n",
       "3  Hasta el minuto de que un funcionario estadoun...  en  es    4.0  \n",
       "4  Cuando salían, me llena de una maleta y captur...  en  es    2.0  \n",
       "5  \"El ejército es una estructura jerárquica\", dice.  en  es    5.0  \n",
       "6  Sesenta y seis padres coordinadores fueron des...  en  es    3.0  \n",
       "7  Sus vidas rayo aquí como votive iluminada con ...  en  es    1.0  \n",
       "8  \"Recuerdo el día cuando el veredicto fue leído...  en  es    5.0  \n",
       "9  México Enrique Peña Nieto enfrenta duras comienzo  en  es    4.0  "
      ]
     },
     "execution_count": 16,
     "metadata": {},
     "output_type": "execute_result"
    }
   ],
   "source": [
    "df.head(10)"
   ]
  },
  {
   "cell_type": "code",
   "execution_count": 17,
   "metadata": {},
   "outputs": [
    {
     "data": {
      "text/html": [
       "<div>\n",
       "<style scoped>\n",
       "    .dataframe tbody tr th:only-of-type {\n",
       "        vertical-align: middle;\n",
       "    }\n",
       "\n",
       "    .dataframe tbody tr th {\n",
       "        vertical-align: top;\n",
       "    }\n",
       "\n",
       "    .dataframe thead th {\n",
       "        text-align: right;\n",
       "    }\n",
       "</style>\n",
       "<table border=\"1\" class=\"dataframe\">\n",
       "  <thead>\n",
       "    <tr style=\"text-align: right;\">\n",
       "      <th></th>\n",
       "      <th>s1</th>\n",
       "      <th>s2</th>\n",
       "      <th>l1</th>\n",
       "      <th>l2</th>\n",
       "      <th>score</th>\n",
       "    </tr>\n",
       "  </thead>\n",
       "  <tbody>\n",
       "    <tr>\n",
       "      <th>990</th>\n",
       "      <td>\"I hope he's the same kind of president as he ...</td>\n",
       "      <td>\"Espero que el mismo tipo de presidente como é...</td>\n",
       "      <td>en</td>\n",
       "      <td>es</td>\n",
       "      <td>4.0</td>\n",
       "    </tr>\n",
       "    <tr>\n",
       "      <th>991</th>\n",
       "      <td>The dinner was held at a Washington hotel hour...</td>\n",
       "      <td>La cena se celebró en un hotel de Washington h...</td>\n",
       "      <td>en</td>\n",
       "      <td>es</td>\n",
       "      <td>5.0</td>\n",
       "    </tr>\n",
       "    <tr>\n",
       "      <th>992</th>\n",
       "      <td>Picasso said that good artists copy, great art...</td>\n",
       "      <td>Picasso dijo que los buenos artistas copian, l...</td>\n",
       "      <td>en</td>\n",
       "      <td>es</td>\n",
       "      <td>5.0</td>\n",
       "    </tr>\n",
       "    <tr>\n",
       "      <th>993</th>\n",
       "      <td>The cuts would eventually hit combat troops, P...</td>\n",
       "      <td>Los recortes eventualmente afectados tropas de...</td>\n",
       "      <td>en</td>\n",
       "      <td>es</td>\n",
       "      <td>5.0</td>\n",
       "    </tr>\n",
       "    <tr>\n",
       "      <th>994</th>\n",
       "      <td>To reach the town you can drive along one of M...</td>\n",
       "      <td>Para llegar a la ciudad puede conducir a lo la...</td>\n",
       "      <td>en</td>\n",
       "      <td>es</td>\n",
       "      <td>5.0</td>\n",
       "    </tr>\n",
       "    <tr>\n",
       "      <th>995</th>\n",
       "      <td>She said Genevieve got hysterical.</td>\n",
       "      <td>Ella dijo Genevieve obtuvo histérica.</td>\n",
       "      <td>en</td>\n",
       "      <td>es</td>\n",
       "      <td>5.0</td>\n",
       "    </tr>\n",
       "    <tr>\n",
       "      <th>996</th>\n",
       "      <td>How to spot a lie</td>\n",
       "      <td>Cómo detectar una mentira</td>\n",
       "      <td>en</td>\n",
       "      <td>es</td>\n",
       "      <td>5.0</td>\n",
       "    </tr>\n",
       "    <tr>\n",
       "      <th>997</th>\n",
       "      <td>\"While wartime funding in the Overseas Conting...</td>\n",
       "      <td>\"Mientras que la financiación de guerra en las...</td>\n",
       "      <td>en</td>\n",
       "      <td>es</td>\n",
       "      <td>3.0</td>\n",
       "    </tr>\n",
       "    <tr>\n",
       "      <th>998</th>\n",
       "      <td>\"The Beauty and the Sorrow\" threads together t...</td>\n",
       "      <td>\"La belleza y la Sorrow\" cabos, las experienci...</td>\n",
       "      <td>en</td>\n",
       "      <td>es</td>\n",
       "      <td>2.0</td>\n",
       "    </tr>\n",
       "    <tr>\n",
       "      <th>999</th>\n",
       "      <td>Also Friday, the judge asked Manning about an ...</td>\n",
       "      <td>También el viernes, el juez pidió a Manning so...</td>\n",
       "      <td>en</td>\n",
       "      <td>es</td>\n",
       "      <td>3.0</td>\n",
       "    </tr>\n",
       "  </tbody>\n",
       "</table>\n",
       "</div>"
      ],
      "text/plain": [
       "                                                    s1  \\\n",
       "990  \"I hope he's the same kind of president as he ...   \n",
       "991  The dinner was held at a Washington hotel hour...   \n",
       "992  Picasso said that good artists copy, great art...   \n",
       "993  The cuts would eventually hit combat troops, P...   \n",
       "994  To reach the town you can drive along one of M...   \n",
       "995                 She said Genevieve got hysterical.   \n",
       "996                                  How to spot a lie   \n",
       "997  \"While wartime funding in the Overseas Conting...   \n",
       "998  \"The Beauty and the Sorrow\" threads together t...   \n",
       "999  Also Friday, the judge asked Manning about an ...   \n",
       "\n",
       "                                                    s2  l1  l2  score  \n",
       "990  \"Espero que el mismo tipo de presidente como é...  en  es    4.0  \n",
       "991  La cena se celebró en un hotel de Washington h...  en  es    5.0  \n",
       "992  Picasso dijo que los buenos artistas copian, l...  en  es    5.0  \n",
       "993  Los recortes eventualmente afectados tropas de...  en  es    5.0  \n",
       "994  Para llegar a la ciudad puede conducir a lo la...  en  es    5.0  \n",
       "995              Ella dijo Genevieve obtuvo histérica.  en  es    5.0  \n",
       "996                          Cómo detectar una mentira  en  es    5.0  \n",
       "997  \"Mientras que la financiación de guerra en las...  en  es    3.0  \n",
       "998  \"La belleza y la Sorrow\" cabos, las experienci...  en  es    2.0  \n",
       "999  También el viernes, el juez pidió a Manning so...  en  es    3.0  "
      ]
     },
     "execution_count": 17,
     "metadata": {},
     "output_type": "execute_result"
    }
   ],
   "source": [
    "df.tail(10)"
   ]
  },
  {
   "cell_type": "code",
   "execution_count": 18,
   "metadata": {},
   "outputs": [
    {
     "data": {
      "text/plain": [
       "en    1000\n",
       "Name: l1, dtype: int64"
      ]
     },
     "execution_count": 18,
     "metadata": {},
     "output_type": "execute_result"
    }
   ],
   "source": [
    "df.l1.value_counts()"
   ]
  },
  {
   "cell_type": "code",
   "execution_count": 19,
   "metadata": {},
   "outputs": [
    {
     "data": {
      "text/plain": [
       "es    1000\n",
       "Name: l2, dtype: int64"
      ]
     },
     "execution_count": 19,
     "metadata": {},
     "output_type": "execute_result"
    }
   ],
   "source": [
    "df.l2.value_counts()"
   ]
  },
  {
   "cell_type": "code",
   "execution_count": 20,
   "metadata": {},
   "outputs": [
    {
     "data": {
      "text/plain": [
       "(1000, 5)"
      ]
     },
     "execution_count": 20,
     "metadata": {},
     "output_type": "execute_result"
    }
   ],
   "source": [
    "df.shape"
   ]
  },
  {
   "cell_type": "code",
   "execution_count": 21,
   "metadata": {},
   "outputs": [],
   "source": [
    "df.to_csv('2017_en_es_eval_set.csv',index=False)"
   ]
  },
  {
   "cell_type": "code",
   "execution_count": null,
   "metadata": {},
   "outputs": [],
   "source": []
  }
 ],
 "metadata": {
  "kernelspec": {
   "display_name": "Python 3",
   "language": "python",
   "name": "python3"
  },
  "language_info": {
   "codemirror_mode": {
    "name": "ipython",
    "version": 3
   },
   "file_extension": ".py",
   "mimetype": "text/x-python",
   "name": "python",
   "nbconvert_exporter": "python",
   "pygments_lexer": "ipython3",
   "version": "3.6.5"
  }
 },
 "nbformat": 4,
 "nbformat_minor": 2
}
